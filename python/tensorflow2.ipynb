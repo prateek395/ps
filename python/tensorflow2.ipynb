{
 "cells": [
  {
   "cell_type": "code",
   "execution_count": 12,
   "metadata": {},
   "outputs": [
    {
     "name": "stdout",
     "output_type": "stream",
     "text": [
      "Requirement already up-to-date: tensorflow in d:\\old hdd\\notessig\\srivastav\\o\\ps\\wpy64-3860\\python-3.8.6.amd64\\lib\\site-packages (2.4.1)"
     ]
    },
    {
     "name": "stderr",
     "output_type": "stream",
     "text": [
      "The system cannot find the path specified.\n",
      "WARNING: You are using pip version 20.2.4; however, version 21.0.1 is available.\n",
      "You should consider upgrading via the 'D:\\Old Hdd\\NotesSig\\srivastav\\o\\ps\\WPy64-3860\\python-3.8.6.amd64\\python.exe -m pip install --upgrade pip' command.\n"
     ]
    },
    {
     "name": "stdout",
     "output_type": "stream",
     "text": [
      "\n",
      "Requirement already satisfied, skipping upgrade: flatbuffers~=1.12.0 in d:\\old hdd\\notessig\\srivastav\\o\\ps\\wpy64-3860\\python-3.8.6.amd64\\lib\\site-packages (from tensorflow) (1.12)\n",
      "Requirement already satisfied, skipping upgrade: termcolor~=1.1.0 in d:\\old hdd\\notessig\\srivastav\\o\\ps\\wpy64-3860\\python-3.8.6.amd64\\lib\\site-packages (from tensorflow) (1.1.0)\n",
      "Requirement already satisfied, skipping upgrade: google-pasta~=0.2 in d:\\old hdd\\notessig\\srivastav\\o\\ps\\wpy64-3860\\python-3.8.6.amd64\\lib\\site-packages (from tensorflow) (0.2.0)\n",
      "Requirement already satisfied, skipping upgrade: grpcio~=1.32.0 in d:\\old hdd\\notessig\\srivastav\\o\\ps\\wpy64-3860\\python-3.8.6.amd64\\lib\\site-packages (from tensorflow) (1.32.0)\n",
      "Requirement already satisfied, skipping upgrade: h5py~=2.10.0 in d:\\old hdd\\notessig\\srivastav\\o\\ps\\wpy64-3860\\python-3.8.6.amd64\\lib\\site-packages (from tensorflow) (2.10.0)\n",
      "Requirement already satisfied, skipping upgrade: numpy~=1.19.2 in d:\\old hdd\\notessig\\srivastav\\o\\ps\\wpy64-3860\\python-3.8.6.amd64\\lib\\site-packages (from tensorflow) (1.19.2+mkl)\n",
      "Requirement already satisfied, skipping upgrade: tensorflow-estimator<2.5.0,>=2.4.0 in d:\\old hdd\\notessig\\srivastav\\o\\ps\\wpy64-3860\\python-3.8.6.amd64\\lib\\site-packages (from tensorflow) (2.4.0)\n",
      "Requirement already satisfied, skipping upgrade: protobuf>=3.9.2 in d:\\old hdd\\notessig\\srivastav\\o\\ps\\wpy64-3860\\python-3.8.6.amd64\\lib\\site-packages (from tensorflow) (4.0.0rc1)\n",
      "Requirement already satisfied, skipping upgrade: wheel~=0.35 in d:\\old hdd\\notessig\\srivastav\\o\\ps\\wpy64-3860\\python-3.8.6.amd64\\lib\\site-packages (from tensorflow) (0.35.1)\n",
      "Requirement already satisfied, skipping upgrade: absl-py~=0.10 in d:\\old hdd\\notessig\\srivastav\\o\\ps\\wpy64-3860\\python-3.8.6.amd64\\lib\\site-packages (from tensorflow) (0.12.0)\n",
      "Requirement already satisfied, skipping upgrade: wrapt~=1.12.1 in d:\\old hdd\\notessig\\srivastav\\o\\ps\\wpy64-3860\\python-3.8.6.amd64\\lib\\site-packages (from tensorflow) (1.12.1)\n",
      "Requirement already satisfied, skipping upgrade: gast==0.3.3 in d:\\old hdd\\notessig\\srivastav\\o\\ps\\wpy64-3860\\python-3.8.6.amd64\\lib\\site-packages (from tensorflow) (0.3.3)\n",
      "Requirement already satisfied, skipping upgrade: astunparse~=1.6.3 in d:\\old hdd\\notessig\\srivastav\\o\\ps\\wpy64-3860\\python-3.8.6.amd64\\lib\\site-packages (from tensorflow) (1.6.3)\n",
      "Requirement already satisfied, skipping upgrade: keras-preprocessing~=1.1.2 in d:\\old hdd\\notessig\\srivastav\\o\\ps\\wpy64-3860\\python-3.8.6.amd64\\lib\\site-packages (from tensorflow) (1.1.2)\n",
      "Requirement already satisfied, skipping upgrade: opt-einsum~=3.3.0 in d:\\old hdd\\notessig\\srivastav\\o\\ps\\wpy64-3860\\python-3.8.6.amd64\\lib\\site-packages (from tensorflow) (3.3.0)\n",
      "Requirement already satisfied, skipping upgrade: typing-extensions~=3.7.4 in d:\\old hdd\\notessig\\srivastav\\o\\ps\\wpy64-3860\\python-3.8.6.amd64\\lib\\site-packages (from tensorflow) (3.7.4.3)\n",
      "Requirement already satisfied, skipping upgrade: tensorboard~=2.4 in d:\\old hdd\\notessig\\srivastav\\o\\ps\\wpy64-3860\\python-3.8.6.amd64\\lib\\site-packages (from tensorflow) (2.4.1)\n",
      "Requirement already satisfied, skipping upgrade: six~=1.15.0 in d:\\old hdd\\notessig\\srivastav\\o\\ps\\wpy64-3860\\python-3.8.6.amd64\\lib\\site-packages (from tensorflow) (1.15.0)\n",
      "Requirement already satisfied, skipping upgrade: setuptools in d:\\old hdd\\notessig\\srivastav\\o\\ps\\wpy64-3860\\python-3.8.6.amd64\\lib\\site-packages (from protobuf>=3.9.2->tensorflow) (50.3.2)\n",
      "Requirement already satisfied, skipping upgrade: werkzeug>=0.11.15 in d:\\old hdd\\notessig\\srivastav\\o\\ps\\wpy64-3860\\python-3.8.6.amd64\\lib\\site-packages (from tensorboard~=2.4->tensorflow) (1.0.1)\n",
      "Requirement already satisfied, skipping upgrade: markdown>=2.6.8 in d:\\old hdd\\notessig\\srivastav\\o\\ps\\wpy64-3860\\python-3.8.6.amd64\\lib\\site-packages (from tensorboard~=2.4->tensorflow) (3.3.2)\n",
      "Requirement already satisfied, skipping upgrade: tensorboard-plugin-wit>=1.6.0 in d:\\old hdd\\notessig\\srivastav\\o\\ps\\wpy64-3860\\python-3.8.6.amd64\\lib\\site-packages (from tensorboard~=2.4->tensorflow) (1.8.0)\n",
      "Requirement already satisfied, skipping upgrade: requests<3,>=2.21.0 in d:\\old hdd\\notessig\\srivastav\\o\\ps\\wpy64-3860\\python-3.8.6.amd64\\lib\\site-packages (from tensorboard~=2.4->tensorflow) (2.24.0)\n",
      "Requirement already satisfied, skipping upgrade: google-auth-oauthlib<0.5,>=0.4.1 in d:\\old hdd\\notessig\\srivastav\\o\\ps\\wpy64-3860\\python-3.8.6.amd64\\lib\\site-packages (from tensorboard~=2.4->tensorflow) (0.4.3)\n",
      "Requirement already satisfied, skipping upgrade: google-auth<2,>=1.6.3 in d:\\old hdd\\notessig\\srivastav\\o\\ps\\wpy64-3860\\python-3.8.6.amd64\\lib\\site-packages (from tensorboard~=2.4->tensorflow) (1.28.0)\n",
      "Requirement already satisfied, skipping upgrade: idna<3,>=2.5 in d:\\old hdd\\notessig\\srivastav\\o\\ps\\wpy64-3860\\python-3.8.6.amd64\\lib\\site-packages (from requests<3,>=2.21.0->tensorboard~=2.4->tensorflow) (2.10)\n",
      "Requirement already satisfied, skipping upgrade: urllib3!=1.25.0,!=1.25.1,<1.26,>=1.21.1 in d:\\old hdd\\notessig\\srivastav\\o\\ps\\wpy64-3860\\python-3.8.6.amd64\\lib\\site-packages (from requests<3,>=2.21.0->tensorboard~=2.4->tensorflow) (1.25.11)\n",
      "Requirement already satisfied, skipping upgrade: certifi>=2017.4.17 in d:\\old hdd\\notessig\\srivastav\\o\\ps\\wpy64-3860\\python-3.8.6.amd64\\lib\\site-packages (from requests<3,>=2.21.0->tensorboard~=2.4->tensorflow) (2020.6.20)\n",
      "Requirement already satisfied, skipping upgrade: chardet<4,>=3.0.2 in d:\\old hdd\\notessig\\srivastav\\o\\ps\\wpy64-3860\\python-3.8.6.amd64\\lib\\site-packages (from requests<3,>=2.21.0->tensorboard~=2.4->tensorflow) (3.0.4)\n",
      "Requirement already satisfied, skipping upgrade: requests-oauthlib>=0.7.0 in d:\\old hdd\\notessig\\srivastav\\o\\ps\\wpy64-3860\\python-3.8.6.amd64\\lib\\site-packages (from google-auth-oauthlib<0.5,>=0.4.1->tensorboard~=2.4->tensorflow) (1.3.0)\n",
      "Requirement already satisfied, skipping upgrade: pyasn1-modules>=0.2.1 in d:\\old hdd\\notessig\\srivastav\\o\\ps\\wpy64-3860\\python-3.8.6.amd64\\lib\\site-packages (from google-auth<2,>=1.6.3->tensorboard~=2.4->tensorflow) (0.2.8)\n",
      "Requirement already satisfied, skipping upgrade: cachetools<5.0,>=2.0.0 in d:\\old hdd\\notessig\\srivastav\\o\\ps\\wpy64-3860\\python-3.8.6.amd64\\lib\\site-packages (from google-auth<2,>=1.6.3->tensorboard~=2.4->tensorflow) (4.2.1)\n",
      "Requirement already satisfied, skipping upgrade: rsa<5,>=3.1.4; python_version >= \"3.6\" in d:\\old hdd\\notessig\\srivastav\\o\\ps\\wpy64-3860\\python-3.8.6.amd64\\lib\\site-packages (from google-auth<2,>=1.6.3->tensorboard~=2.4->tensorflow) (4.7.2)\n",
      "Requirement already satisfied, skipping upgrade: oauthlib>=3.0.0 in d:\\old hdd\\notessig\\srivastav\\o\\ps\\wpy64-3860\\python-3.8.6.amd64\\lib\\site-packages (from requests-oauthlib>=0.7.0->google-auth-oauthlib<0.5,>=0.4.1->tensorboard~=2.4->tensorflow) (3.1.0)\n",
      "Requirement already satisfied, skipping upgrade: pyasn1<0.5.0,>=0.4.6 in d:\\old hdd\\notessig\\srivastav\\o\\ps\\wpy64-3860\\python-3.8.6.amd64\\lib\\site-packages (from pyasn1-modules>=0.2.1->google-auth<2,>=1.6.3->tensorboard~=2.4->tensorflow) (0.4.8)\n",
      "Requirement already up-to-date: tensorflow-gpu in d:\\old hdd\\notessig\\srivastav\\o\\ps\\wpy64-3860\\python-3.8.6.amd64\\lib\\site-packages (2.4.1)\n",
      "Requirement already satisfied, skipping upgrade: google-pasta~=0.2 in d:\\old hdd\\notessig\\srivastav\\o\\ps\\wpy64-3860\\python-3.8.6.amd64\\lib\\site-packages (from tensorflow-gpu) (0.2.0)\n",
      "Requirement already satisfied, skipping upgrade: typing-extensions~=3.7.4 in d:\\old hdd\\notessig\\srivastav\\o\\ps\\wpy64-3860\\python-3.8.6.amd64\\lib\\site-packages (from tensorflow-gpu) (3.7.4.3)\n",
      "Requirement already satisfied, skipping upgrade: tensorboard~=2.4 in d:\\old hdd\\notessig\\srivastav\\o\\ps\\wpy64-3860\\python-3.8.6.amd64\\lib\\site-packages (from tensorflow-gpu) (2.4.1)\n",
      "Requirement already satisfied, skipping upgrade: grpcio~=1.32.0 in d:\\old hdd\\notessig\\srivastav\\o\\ps\\wpy64-3860\\python-3.8.6.amd64\\lib\\site-packages (from tensorflow-gpu) (1.32.0)\n",
      "Requirement already satisfied, skipping upgrade: protobuf>=3.9.2 in d:\\old hdd\\notessig\\srivastav\\o\\ps\\wpy64-3860\\python-3.8.6.amd64\\lib\\site-packages (from tensorflow-gpu) (4.0.0rc1)\n",
      "Requirement already satisfied, skipping upgrade: termcolor~=1.1.0 in d:\\old hdd\\notessig\\srivastav\\o\\ps\\wpy64-3860\\python-3.8.6.amd64\\lib\\site-packages (from tensorflow-gpu) (1.1.0)\n",
      "Requirement already satisfied, skipping upgrade: gast==0.3.3 in d:\\old hdd\\notessig\\srivastav\\o\\ps\\wpy64-3860\\python-3.8.6.amd64\\lib\\site-packages (from tensorflow-gpu) (0.3.3)\n",
      "Requirement already satisfied, skipping upgrade: absl-py~=0.10 in d:\\old hdd\\notessig\\srivastav\\o\\ps\\wpy64-3860\\python-3.8.6.amd64\\lib\\site-packages (from tensorflow-gpu) (0.12.0)\n",
      "Requirement already satisfied, skipping upgrade: h5py~=2.10.0 in d:\\old hdd\\notessig\\srivastav\\o\\ps\\wpy64-3860\\python-3.8.6.amd64\\lib\\site-packages (from tensorflow-gpu) (2.10.0)\n",
      "Requirement already satisfied, skipping upgrade: six~=1.15.0 in d:\\old hdd\\notessig\\srivastav\\o\\ps\\wpy64-3860\\python-3.8.6.amd64\\lib\\site-packages (from tensorflow-gpu) (1.15.0)\n",
      "Requirement already satisfied, skipping upgrade: wrapt~=1.12.1 in d:\\old hdd\\notessig\\srivastav\\o\\ps\\wpy64-3860\\python-3.8.6.amd64\\lib\\site-packages (from tensorflow-gpu) (1.12.1)\n",
      "Requirement already satisfied, skipping upgrade: numpy~=1.19.2 in d:\\old hdd\\notessig\\srivastav\\o\\ps\\wpy64-3860\\python-3.8.6.amd64\\lib\\site-packages (from tensorflow-gpu) (1.19.2+mkl)\n",
      "Requirement already satisfied, skipping upgrade: flatbuffers~=1.12.0 in d:\\old hdd\\notessig\\srivastav\\o\\ps\\wpy64-3860\\python-3.8.6.amd64\\lib\\site-packages (from tensorflow-gpu) (1.12)\n",
      "Requirement already satisfied, skipping upgrade: astunparse~=1.6.3 in d:\\old hdd\\notessig\\srivastav\\o\\ps\\wpy64-3860\\python-3.8.6.amd64\\lib\\site-packages (from tensorflow-gpu) (1.6.3)\n",
      "Requirement already satisfied, skipping upgrade: keras-preprocessing~=1.1.2 in d:\\old hdd\\notessig\\srivastav\\o\\ps\\wpy64-3860\\python-3.8.6.amd64\\lib\\site-packages (from tensorflow-gpu) (1.1.2)"
     ]
    },
    {
     "name": "stderr",
     "output_type": "stream",
     "text": [
      "The system cannot find the path specified.\n",
      "WARNING: You are using pip version 20.2.4; however, version 21.0.1 is available.\n",
      "You should consider upgrading via the 'D:\\Old Hdd\\NotesSig\\srivastav\\o\\ps\\WPy64-3860\\python-3.8.6.amd64\\python.exe -m pip install --upgrade pip' command.\n"
     ]
    },
    {
     "name": "stdout",
     "output_type": "stream",
     "text": [
      "\n",
      "Requirement already satisfied, skipping upgrade: wheel~=0.35 in d:\\old hdd\\notessig\\srivastav\\o\\ps\\wpy64-3860\\python-3.8.6.amd64\\lib\\site-packages (from tensorflow-gpu) (0.35.1)\n",
      "Requirement already satisfied, skipping upgrade: tensorflow-estimator<2.5.0,>=2.4.0 in d:\\old hdd\\notessig\\srivastav\\o\\ps\\wpy64-3860\\python-3.8.6.amd64\\lib\\site-packages (from tensorflow-gpu) (2.4.0)\n",
      "Requirement already satisfied, skipping upgrade: opt-einsum~=3.3.0 in d:\\old hdd\\notessig\\srivastav\\o\\ps\\wpy64-3860\\python-3.8.6.amd64\\lib\\site-packages (from tensorflow-gpu) (3.3.0)\n",
      "Requirement already satisfied, skipping upgrade: tensorboard-plugin-wit>=1.6.0 in d:\\old hdd\\notessig\\srivastav\\o\\ps\\wpy64-3860\\python-3.8.6.amd64\\lib\\site-packages (from tensorboard~=2.4->tensorflow-gpu) (1.8.0)\n",
      "Requirement already satisfied, skipping upgrade: google-auth<2,>=1.6.3 in d:\\old hdd\\notessig\\srivastav\\o\\ps\\wpy64-3860\\python-3.8.6.amd64\\lib\\site-packages (from tensorboard~=2.4->tensorflow-gpu) (1.28.0)\n",
      "Requirement already satisfied, skipping upgrade: werkzeug>=0.11.15 in d:\\old hdd\\notessig\\srivastav\\o\\ps\\wpy64-3860\\python-3.8.6.amd64\\lib\\site-packages (from tensorboard~=2.4->tensorflow-gpu) (1.0.1)\n",
      "Requirement already satisfied, skipping upgrade: setuptools>=41.0.0 in d:\\old hdd\\notessig\\srivastav\\o\\ps\\wpy64-3860\\python-3.8.6.amd64\\lib\\site-packages (from tensorboard~=2.4->tensorflow-gpu) (50.3.2)\n",
      "Requirement already satisfied, skipping upgrade: google-auth-oauthlib<0.5,>=0.4.1 in d:\\old hdd\\notessig\\srivastav\\o\\ps\\wpy64-3860\\python-3.8.6.amd64\\lib\\site-packages (from tensorboard~=2.4->tensorflow-gpu) (0.4.3)\n",
      "Requirement already satisfied, skipping upgrade: requests<3,>=2.21.0 in d:\\old hdd\\notessig\\srivastav\\o\\ps\\wpy64-3860\\python-3.8.6.amd64\\lib\\site-packages (from tensorboard~=2.4->tensorflow-gpu) (2.24.0)\n",
      "Requirement already satisfied, skipping upgrade: markdown>=2.6.8 in d:\\old hdd\\notessig\\srivastav\\o\\ps\\wpy64-3860\\python-3.8.6.amd64\\lib\\site-packages (from tensorboard~=2.4->tensorflow-gpu) (3.3.2)\n",
      "Requirement already satisfied, skipping upgrade: pyasn1-modules>=0.2.1 in d:\\old hdd\\notessig\\srivastav\\o\\ps\\wpy64-3860\\python-3.8.6.amd64\\lib\\site-packages (from google-auth<2,>=1.6.3->tensorboard~=2.4->tensorflow-gpu) (0.2.8)\n",
      "Requirement already satisfied, skipping upgrade: cachetools<5.0,>=2.0.0 in d:\\old hdd\\notessig\\srivastav\\o\\ps\\wpy64-3860\\python-3.8.6.amd64\\lib\\site-packages (from google-auth<2,>=1.6.3->tensorboard~=2.4->tensorflow-gpu) (4.2.1)\n",
      "Requirement already satisfied, skipping upgrade: rsa<5,>=3.1.4; python_version >= \"3.6\" in d:\\old hdd\\notessig\\srivastav\\o\\ps\\wpy64-3860\\python-3.8.6.amd64\\lib\\site-packages (from google-auth<2,>=1.6.3->tensorboard~=2.4->tensorflow-gpu) (4.7.2)\n",
      "Requirement already satisfied, skipping upgrade: requests-oauthlib>=0.7.0 in d:\\old hdd\\notessig\\srivastav\\o\\ps\\wpy64-3860\\python-3.8.6.amd64\\lib\\site-packages (from google-auth-oauthlib<0.5,>=0.4.1->tensorboard~=2.4->tensorflow-gpu) (1.3.0)\n",
      "Requirement already satisfied, skipping upgrade: urllib3!=1.25.0,!=1.25.1,<1.26,>=1.21.1 in d:\\old hdd\\notessig\\srivastav\\o\\ps\\wpy64-3860\\python-3.8.6.amd64\\lib\\site-packages (from requests<3,>=2.21.0->tensorboard~=2.4->tensorflow-gpu) (1.25.11)\n",
      "Requirement already satisfied, skipping upgrade: chardet<4,>=3.0.2 in d:\\old hdd\\notessig\\srivastav\\o\\ps\\wpy64-3860\\python-3.8.6.amd64\\lib\\site-packages (from requests<3,>=2.21.0->tensorboard~=2.4->tensorflow-gpu) (3.0.4)\n",
      "Requirement already satisfied, skipping upgrade: idna<3,>=2.5 in d:\\old hdd\\notessig\\srivastav\\o\\ps\\wpy64-3860\\python-3.8.6.amd64\\lib\\site-packages (from requests<3,>=2.21.0->tensorboard~=2.4->tensorflow-gpu) (2.10)\n",
      "Requirement already satisfied, skipping upgrade: certifi>=2017.4.17 in d:\\old hdd\\notessig\\srivastav\\o\\ps\\wpy64-3860\\python-3.8.6.amd64\\lib\\site-packages (from requests<3,>=2.21.0->tensorboard~=2.4->tensorflow-gpu) (2020.6.20)\n",
      "Requirement already satisfied, skipping upgrade: pyasn1<0.5.0,>=0.4.6 in d:\\old hdd\\notessig\\srivastav\\o\\ps\\wpy64-3860\\python-3.8.6.amd64\\lib\\site-packages (from pyasn1-modules>=0.2.1->google-auth<2,>=1.6.3->tensorboard~=2.4->tensorflow-gpu) (0.4.8)\n",
      "Requirement already satisfied, skipping upgrade: oauthlib>=3.0.0 in d:\\old hdd\\notessig\\srivastav\\o\\ps\\wpy64-3860\\python-3.8.6.amd64\\lib\\site-packages (from requests-oauthlib>=0.7.0->google-auth-oauthlib<0.5,>=0.4.1->tensorboard~=2.4->tensorflow-gpu) (3.1.0)\n"
     ]
    }
   ],
   "source": [
    "!pip install --upgrade tensorflow \n",
    "!pip install --upgrade tensorflow-gpu \n"
   ]
  },
  {
   "cell_type": "code",
   "execution_count": 12,
   "metadata": {
    "scrolled": true
   },
   "outputs": [
    {
     "name": "stdout",
     "output_type": "stream",
     "text": [
      "Your TensorFlow version: 2.4.1\n"
     ]
    }
   ],
   "source": [
    "import tensorflow as tf\n",
    "print(('Your TensorFlow version: {0}').format(tf.__version__))"
   ]
  },
  {
   "cell_type": "code",
   "execution_count": 3,
   "metadata": {},
   "outputs": [
    {
     "name": "stdout",
     "output_type": "stream",
     "text": [
      "Eager execution is enabled (running operations immediately)\n",
      "\n",
      "Turn eager execution off by running: \n",
      "from tensorflow.python.framework.ops import disable_eager_execution\n",
      "disable_eager_execution()\n"
     ]
    }
   ],
   "source": [
    "if(tf.executing_eagerly()):\n",
    "    print('Eager execution is enabled (running operations immediately)\\n')\n",
    "    print(('Turn eager execution off by running: \\n{0}\\n{1}').format('' \\\n",
    "        'from tensorflow.python.framework.ops import disable_eager_execution', \\\n",
    "        'disable_eager_execution()'))\n",
    "else:\n",
    "    print('You are not running eager execution. TensorFlow version >= 2.0.0' \\\n",
    "          'has eager execution enabled by default.')\n",
    "    print(('Turn on eager execution by running: \\n\\n{0}\\n\\nOr upgrade '\\\n",
    "           'your tensorflow version by running:\\n\\n{1}').format(\n",
    "           'tf.compat.v1.enable_eager_execution()'))"
   ]
  },
  {
   "cell_type": "code",
   "execution_count": 16,
   "metadata": {},
   "outputs": [
    {
     "name": "stdout",
     "output_type": "stream",
     "text": [
      "Is your GPU available for use? \n",
      "No, your GPU is NOT available: False\n"
     ]
    }
   ],
   "source": [
    "print(('Is your GPU available for use? \\n{0}').format(\n",
    "    'Yes, your GPU is available: True' if tf.test.is_gpu_available() == True else 'No, your GPU is NOT available: False'\n",
    "))"
   ]
  },
  {
   "cell_type": "code",
   "execution_count": 17,
   "metadata": {},
   "outputs": [
    {
     "name": "stdout",
     "output_type": "stream",
     "text": [
      "['/device:CPU:0']\n"
     ]
    }
   ],
   "source": [
    "from tensorflow.python.client import device_lib\n",
    "def get_available_devices():\n",
    "    local_device_protos = device_lib.list_local_devices()\n",
    "    return [x.name for x in local_device_protos]\n",
    "print(get_available_devices()) "
   ]
  },
  {
   "cell_type": "code",
   "execution_count": 6,
   "metadata": {},
   "outputs": [
    {
     "name": "stdout",
     "output_type": "stream",
     "text": [
      "Requirement already satisfied: tensorflow-gpu in d:\\old hdd\\notessig\\srivastav\\o\\ps\\wpy64-3860\\python-3.8.6.amd64\\lib\\site-packages (2.4.1)\n",
      "Requirement already satisfied: termcolor~=1.1.0 in d:\\old hdd\\notessig\\srivastav\\o\\ps\\wpy64-3860\\python-3.8.6.amd64\\lib\\site-packages (from tensorflow-gpu) (1.1.0)\n",
      "Requirement already satisfied: google-pasta~=0.2 in d:\\old hdd\\notessig\\srivastav\\o\\ps\\wpy64-3860\\python-3.8.6.amd64\\lib\\site-packages (from tensorflow-gpu) (0.2.0)\n",
      "Requirement already satisfied: tensorboard~=2.4 in d:\\old hdd\\notessig\\srivastav\\o\\ps\\wpy64-3860\\python-3.8.6.amd64\\lib\\site-packages (from tensorflow-gpu) (2.4.1)\n",
      "Requirement already satisfied: h5py~=2.10.0 in d:\\old hdd\\notessig\\srivastav\\o\\ps\\wpy64-3860\\python-3.8.6.amd64\\lib\\site-packages (from tensorflow-gpu) (2.10.0)\n",
      "Requirement already satisfied: numpy~=1.19.2 in d:\\old hdd\\notessig\\srivastav\\o\\ps\\wpy64-3860\\python-3.8.6.amd64\\lib\\site-packages (from tensorflow-gpu) (1.19.2+mkl)\n",
      "Requirement already satisfied: protobuf>=3.9.2 in d:\\old hdd\\notessig\\srivastav\\o\\ps\\wpy64-3860\\python-3.8.6.amd64\\lib\\site-packages (from tensorflow-gpu) (4.0.0rc1)\n",
      "Requirement already satisfied: gast==0.3.3 in d:\\old hdd\\notessig\\srivastav\\o\\ps\\wpy64-3860\\python-3.8.6.amd64\\lib\\site-packages (from tensorflow-gpu) (0.3.3)"
     ]
    },
    {
     "name": "stderr",
     "output_type": "stream",
     "text": [
      "The system cannot find the path specified.\n",
      "WARNING: You are using pip version 20.2.4; however, version 21.0.1 is available.\n",
      "You should consider upgrading via the 'D:\\Old Hdd\\NotesSig\\srivastav\\o\\ps\\WPy64-3860\\python-3.8.6.amd64\\python.exe -m pip install --upgrade pip' command.\n"
     ]
    },
    {
     "name": "stdout",
     "output_type": "stream",
     "text": [
      "\n",
      "Requirement already satisfied: opt-einsum~=3.3.0 in d:\\old hdd\\notessig\\srivastav\\o\\ps\\wpy64-3860\\python-3.8.6.amd64\\lib\\site-packages (from tensorflow-gpu) (3.3.0)\n",
      "Requirement already satisfied: astunparse~=1.6.3 in d:\\old hdd\\notessig\\srivastav\\o\\ps\\wpy64-3860\\python-3.8.6.amd64\\lib\\site-packages (from tensorflow-gpu) (1.6.3)\n",
      "Requirement already satisfied: absl-py~=0.10 in d:\\old hdd\\notessig\\srivastav\\o\\ps\\wpy64-3860\\python-3.8.6.amd64\\lib\\site-packages (from tensorflow-gpu) (0.12.0)\n",
      "Requirement already satisfied: six~=1.15.0 in d:\\old hdd\\notessig\\srivastav\\o\\ps\\wpy64-3860\\python-3.8.6.amd64\\lib\\site-packages (from tensorflow-gpu) (1.15.0)\n",
      "Requirement already satisfied: wheel~=0.35 in d:\\old hdd\\notessig\\srivastav\\o\\ps\\wpy64-3860\\python-3.8.6.amd64\\lib\\site-packages (from tensorflow-gpu) (0.35.1)\n",
      "Requirement already satisfied: grpcio~=1.32.0 in d:\\old hdd\\notessig\\srivastav\\o\\ps\\wpy64-3860\\python-3.8.6.amd64\\lib\\site-packages (from tensorflow-gpu) (1.32.0)\n",
      "Requirement already satisfied: wrapt~=1.12.1 in d:\\old hdd\\notessig\\srivastav\\o\\ps\\wpy64-3860\\python-3.8.6.amd64\\lib\\site-packages (from tensorflow-gpu) (1.12.1)\n",
      "Requirement already satisfied: tensorflow-estimator<2.5.0,>=2.4.0 in d:\\old hdd\\notessig\\srivastav\\o\\ps\\wpy64-3860\\python-3.8.6.amd64\\lib\\site-packages (from tensorflow-gpu) (2.4.0)\n",
      "Requirement already satisfied: typing-extensions~=3.7.4 in d:\\old hdd\\notessig\\srivastav\\o\\ps\\wpy64-3860\\python-3.8.6.amd64\\lib\\site-packages (from tensorflow-gpu) (3.7.4.3)\n",
      "Requirement already satisfied: flatbuffers~=1.12.0 in d:\\old hdd\\notessig\\srivastav\\o\\ps\\wpy64-3860\\python-3.8.6.amd64\\lib\\site-packages (from tensorflow-gpu) (1.12)\n",
      "Requirement already satisfied: keras-preprocessing~=1.1.2 in d:\\old hdd\\notessig\\srivastav\\o\\ps\\wpy64-3860\\python-3.8.6.amd64\\lib\\site-packages (from tensorflow-gpu) (1.1.2)\n",
      "Requirement already satisfied: google-auth<2,>=1.6.3 in d:\\old hdd\\notessig\\srivastav\\o\\ps\\wpy64-3860\\python-3.8.6.amd64\\lib\\site-packages (from tensorboard~=2.4->tensorflow-gpu) (1.28.0)\n",
      "Requirement already satisfied: tensorboard-plugin-wit>=1.6.0 in d:\\old hdd\\notessig\\srivastav\\o\\ps\\wpy64-3860\\python-3.8.6.amd64\\lib\\site-packages (from tensorboard~=2.4->tensorflow-gpu) (1.8.0)\n",
      "Requirement already satisfied: requests<3,>=2.21.0 in d:\\old hdd\\notessig\\srivastav\\o\\ps\\wpy64-3860\\python-3.8.6.amd64\\lib\\site-packages (from tensorboard~=2.4->tensorflow-gpu) (2.24.0)\n",
      "Requirement already satisfied: werkzeug>=0.11.15 in d:\\old hdd\\notessig\\srivastav\\o\\ps\\wpy64-3860\\python-3.8.6.amd64\\lib\\site-packages (from tensorboard~=2.4->tensorflow-gpu) (1.0.1)\n",
      "Requirement already satisfied: setuptools>=41.0.0 in d:\\old hdd\\notessig\\srivastav\\o\\ps\\wpy64-3860\\python-3.8.6.amd64\\lib\\site-packages (from tensorboard~=2.4->tensorflow-gpu) (50.3.2)\n",
      "Requirement already satisfied: markdown>=2.6.8 in d:\\old hdd\\notessig\\srivastav\\o\\ps\\wpy64-3860\\python-3.8.6.amd64\\lib\\site-packages (from tensorboard~=2.4->tensorflow-gpu) (3.3.2)\n",
      "Requirement already satisfied: google-auth-oauthlib<0.5,>=0.4.1 in d:\\old hdd\\notessig\\srivastav\\o\\ps\\wpy64-3860\\python-3.8.6.amd64\\lib\\site-packages (from tensorboard~=2.4->tensorflow-gpu) (0.4.3)\n",
      "Requirement already satisfied: rsa<5,>=3.1.4; python_version >= \"3.6\" in d:\\old hdd\\notessig\\srivastav\\o\\ps\\wpy64-3860\\python-3.8.6.amd64\\lib\\site-packages (from google-auth<2,>=1.6.3->tensorboard~=2.4->tensorflow-gpu) (4.7.2)\n",
      "Requirement already satisfied: pyasn1-modules>=0.2.1 in d:\\old hdd\\notessig\\srivastav\\o\\ps\\wpy64-3860\\python-3.8.6.amd64\\lib\\site-packages (from google-auth<2,>=1.6.3->tensorboard~=2.4->tensorflow-gpu) (0.2.8)\n",
      "Requirement already satisfied: cachetools<5.0,>=2.0.0 in d:\\old hdd\\notessig\\srivastav\\o\\ps\\wpy64-3860\\python-3.8.6.amd64\\lib\\site-packages (from google-auth<2,>=1.6.3->tensorboard~=2.4->tensorflow-gpu) (4.2.1)\n",
      "Requirement already satisfied: urllib3!=1.25.0,!=1.25.1,<1.26,>=1.21.1 in d:\\old hdd\\notessig\\srivastav\\o\\ps\\wpy64-3860\\python-3.8.6.amd64\\lib\\site-packages (from requests<3,>=2.21.0->tensorboard~=2.4->tensorflow-gpu) (1.25.11)\n",
      "Requirement already satisfied: idna<3,>=2.5 in d:\\old hdd\\notessig\\srivastav\\o\\ps\\wpy64-3860\\python-3.8.6.amd64\\lib\\site-packages (from requests<3,>=2.21.0->tensorboard~=2.4->tensorflow-gpu) (2.10)\n",
      "Requirement already satisfied: certifi>=2017.4.17 in d:\\old hdd\\notessig\\srivastav\\o\\ps\\wpy64-3860\\python-3.8.6.amd64\\lib\\site-packages (from requests<3,>=2.21.0->tensorboard~=2.4->tensorflow-gpu) (2020.6.20)\n",
      "Requirement already satisfied: chardet<4,>=3.0.2 in d:\\old hdd\\notessig\\srivastav\\o\\ps\\wpy64-3860\\python-3.8.6.amd64\\lib\\site-packages (from requests<3,>=2.21.0->tensorboard~=2.4->tensorflow-gpu) (3.0.4)\n",
      "Requirement already satisfied: requests-oauthlib>=0.7.0 in d:\\old hdd\\notessig\\srivastav\\o\\ps\\wpy64-3860\\python-3.8.6.amd64\\lib\\site-packages (from google-auth-oauthlib<0.5,>=0.4.1->tensorboard~=2.4->tensorflow-gpu) (1.3.0)\n",
      "Requirement already satisfied: pyasn1>=0.1.3 in d:\\old hdd\\notessig\\srivastav\\o\\ps\\wpy64-3860\\python-3.8.6.amd64\\lib\\site-packages (from rsa<5,>=3.1.4; python_version >= \"3.6\"->google-auth<2,>=1.6.3->tensorboard~=2.4->tensorflow-gpu) (0.4.8)\n",
      "Requirement already satisfied: oauthlib>=3.0.0 in d:\\old hdd\\notessig\\srivastav\\o\\ps\\wpy64-3860\\python-3.8.6.amd64\\lib\\site-packages (from requests-oauthlib>=0.7.0->google-auth-oauthlib<0.5,>=0.4.1->tensorboard~=2.4->tensorflow-gpu) (3.1.0)\n"
     ]
    }
   ],
   "source": [
    "!pip install tensorflow-gpu"
   ]
  },
  {
   "cell_type": "code",
   "execution_count": 14,
   "metadata": {},
   "outputs": [
    {
     "name": "stderr",
     "output_type": "stream",
     "text": [
      "The system cannot find the path specified.\n",
      "'source' is not recognized as an internal or external command,\n",
      "operable program or batch file.\n"
     ]
    },
    {
     "name": "stdout",
     "output_type": "stream",
     "text": [
      "Installed kernelspec myenv in D:\\Old Hdd\\NotesSig\\srivastav\\o\\ps\\WPy64-3860\\settings\\kernels\\myenv\n"
     ]
    },
    {
     "name": "stderr",
     "output_type": "stream",
     "text": [
      "The system cannot find the path specified.\n"
     ]
    }
   ],
   "source": [
    "!source activate myenv\n",
    "!python -m ipykernel install --user --name myenv --display-name \"Python (myenv)\""
   ]
  },
  {
   "cell_type": "code",
   "execution_count": 15,
   "metadata": {},
   "outputs": [
    {
     "name": "stdout",
     "output_type": "stream",
     "text": [
      "0.03191328048706055\n",
      "0.028607606887817383\n",
      "GPU speedup over CPU: 1x\n"
     ]
    }
   ],
   "source": [
    "import time\n",
    "cpu_slot=0\n",
    "gpu_slot=0\n",
    "# Using CPU at slot 0\n",
    "with tf.device('/CPU:' + str(cpu_slot)):\n",
    "    # Starting a timer\n",
    "    start = time.time()\n",
    "\n",
    "    # Doing operations on CPU\n",
    "    random_image_cpu = tf.random.normal((100, 100, 100, 3))\n",
    "    net_cpu = tf.reduce_sum(random_image_cpu)\n",
    "\n",
    "    # Printing how long it took with CPU\n",
    "    end_cpu = time.time() - start\n",
    "    print(end_cpu)\n",
    "\n",
    "# Using the GPU at slot 0\n",
    "with tf.device('/GPU:' + str(gpu_slot)):\n",
    "    # Starting a timer\n",
    "    start = time.time()\n",
    "\n",
    "    # Doing operations on GPU\n",
    "    random_image_gpu = tf.random.normal((100, 100, 100, 3))\n",
    "    net_gpu = tf.reduce_sum(random_image_gpu)\n",
    "\n",
    "    # Printing how long it took with GPU\n",
    "    end_gpu = time.time() - start\n",
    "    print(end_gpu)\n",
    "print('GPU speedup over CPU: {}x'.format(int(end_cpu/end_gpu)))"
   ]
  },
  {
   "cell_type": "code",
   "execution_count": 20,
   "metadata": {},
   "outputs": [],
   "source": [
    "input_dim = 2\n",
    "output_dim = 1\n",
    "learning_rate = 0.01 # subject to change\n",
    "\n",
    "# This is our weight matrix\n",
    "w = tf.Variable(tf.random.uniform(shape=(input_dim, output_dim))) # parameters, equal to theta\n",
    "# This is our bias vector\n",
    "b = tf.Variable(tf.zeros(shape=(output_dim,))) # intercept\n",
    "\n",
    "def compute_predictions(features): # define hypothesis\n",
    "    return tf.matmul(features, w) + b\n",
    "\n",
    "def compute_loss(labels, predictions): # define MSE\n",
    "    return tf.reduce_mean(tf.square(labels - predictions))\n",
    "\n",
    "def train(x, y): # training and updating through GD updates\n",
    "    with tf.GradientTape() as tape:\n",
    "        predictions = compute_predictions(x) # y_pred or y hat\n",
    "        loss = compute_loss(y, predictions)  # loss returned\n",
    "        dloss_dw, dloss_db = tape.gradient(loss, [w, b]) # gradient w.r.t. w and b\n",
    "        w.assign_sub(learning_rate * dloss_dw) # reassign weights\n",
    "        b.assign_sub(learning_rate * dloss_db) # reassign bias\n",
    "        return loss"
   ]
  },
  {
   "cell_type": "code",
   "execution_count": 62,
   "metadata": {},
   "outputs": [
    {
     "data": {
      "text/plain": [
       "(2, 2)"
      ]
     },
     "execution_count": 62,
     "metadata": {},
     "output_type": "execute_result"
    }
   ],
   "source": [
    "import pandas as pd\n",
    "import numpy as np\n",
    "df = pd.read_csv('hr.csv')\n",
    "df1=df.select_dtypes(include=[np.number])\n",
    "df2=df.select_dtypes(exclude=[np.number])\n",
    "df1=df1.astype('float32')\n",
    "df1=df1[0:2]\n",
    "\n",
    "df3=df1[['Age','MonthlyIncome']]\n",
    "df3.shape"
   ]
  },
  {
   "cell_type": "code",
   "execution_count": 66,
   "metadata": {},
   "outputs": [
    {
     "data": {
      "text/plain": [
       "<tf.Tensor: shape=(2, 26), dtype=float32, numpy=\n",
       "array([[1369.2561 , 2455.5024 , 3726.459  , 2972.1462 , 2841.3154 ,\n",
       "        5773.1523 , 3268.7705 , 1699.5504 , 2884.6465 , 4506.257  ,\n",
       "        3015.9443 , 3614.651  ,  960.6335 , 3134.7598 ,  763.5951 ,\n",
       "        3526.0034 , 4488.889  , 5659.6714 , 2315.9026 , 4558.5015 ,\n",
       "          81.48874, 3112.176  , 4021.9136 ,  501.92645, 2178.2898 ,\n",
       "         857.43756],\n",
       "       [1179.803  , 2111.7578 , 3195.471  , 2547.949  , 2440.4517 ,\n",
       "        4955.095  , 2798.8193 , 1458.9701 , 2470.4504 , 3857.8682 ,\n",
       "        2585.0464 , 3097.1086 ,  825.1934 , 2693.1267 ,  660.5569 ,\n",
       "        3021.5664 , 3842.5366 , 4850.8438 , 1984.2756 , 3906.9036 ,\n",
       "          76.80925, 2675.4324 , 3456.5483 ,  437.0232 , 1872.7096 ,\n",
       "         745.9275 ]], dtype=float32)>"
      ]
     },
     "execution_count": 66,
     "metadata": {},
     "output_type": "execute_result"
    }
   ],
   "source": [
    "x=compute_predictions(df1)\n"
   ]
  },
  {
   "cell_type": "code",
   "execution_count": 73,
   "metadata": {},
   "outputs": [
    {
     "ename": "KeyError",
     "evalue": "\"None of [Float64Index([5993.0, 5130.0], dtype='float64')] are in the [columns]\"",
     "output_type": "error",
     "traceback": [
      "\u001b[1;31m---------------------------------------------------------------------------\u001b[0m",
      "\u001b[1;31mKeyError\u001b[0m                                  Traceback (most recent call last)",
      "\u001b[1;32m<ipython-input-73-e4ce97b5dacc>\u001b[0m in \u001b[0;36m<module>\u001b[1;34m\u001b[0m\n\u001b[1;32m----> 1\u001b[1;33m \u001b[0mcompute_loss\u001b[0m\u001b[1;33m(\u001b[0m\u001b[0mdf1\u001b[0m\u001b[1;33m[\u001b[0m\u001b[0mdf1\u001b[0m\u001b[1;33m[\u001b[0m\u001b[1;34m'MonthlyIncome'\u001b[0m\u001b[1;33m]\u001b[0m\u001b[1;33m]\u001b[0m\u001b[1;33m,\u001b[0m\u001b[0mx\u001b[0m\u001b[1;33m)\u001b[0m\u001b[1;33m\u001b[0m\u001b[1;33m\u001b[0m\u001b[0m\n\u001b[0m",
      "\u001b[1;32mD:\\Old Hdd\\NotesSig\\srivastav\\o\\ps\\WPy64-3860\\python-3.8.6.amd64\\lib\\site-packages\\pandas\\core\\frame.py\u001b[0m in \u001b[0;36m__getitem__\u001b[1;34m(self, key)\u001b[0m\n\u001b[0;32m   2906\u001b[0m             \u001b[1;32mif\u001b[0m \u001b[0mis_iterator\u001b[0m\u001b[1;33m(\u001b[0m\u001b[0mkey\u001b[0m\u001b[1;33m)\u001b[0m\u001b[1;33m:\u001b[0m\u001b[1;33m\u001b[0m\u001b[1;33m\u001b[0m\u001b[0m\n\u001b[0;32m   2907\u001b[0m                 \u001b[0mkey\u001b[0m \u001b[1;33m=\u001b[0m \u001b[0mlist\u001b[0m\u001b[1;33m(\u001b[0m\u001b[0mkey\u001b[0m\u001b[1;33m)\u001b[0m\u001b[1;33m\u001b[0m\u001b[1;33m\u001b[0m\u001b[0m\n\u001b[1;32m-> 2908\u001b[1;33m             \u001b[0mindexer\u001b[0m \u001b[1;33m=\u001b[0m \u001b[0mself\u001b[0m\u001b[1;33m.\u001b[0m\u001b[0mloc\u001b[0m\u001b[1;33m.\u001b[0m\u001b[0m_get_listlike_indexer\u001b[0m\u001b[1;33m(\u001b[0m\u001b[0mkey\u001b[0m\u001b[1;33m,\u001b[0m \u001b[0maxis\u001b[0m\u001b[1;33m=\u001b[0m\u001b[1;36m1\u001b[0m\u001b[1;33m,\u001b[0m \u001b[0mraise_missing\u001b[0m\u001b[1;33m=\u001b[0m\u001b[1;32mTrue\u001b[0m\u001b[1;33m)\u001b[0m\u001b[1;33m[\u001b[0m\u001b[1;36m1\u001b[0m\u001b[1;33m]\u001b[0m\u001b[1;33m\u001b[0m\u001b[1;33m\u001b[0m\u001b[0m\n\u001b[0m\u001b[0;32m   2909\u001b[0m \u001b[1;33m\u001b[0m\u001b[0m\n\u001b[0;32m   2910\u001b[0m         \u001b[1;31m# take() does not accept boolean indexers\u001b[0m\u001b[1;33m\u001b[0m\u001b[1;33m\u001b[0m\u001b[1;33m\u001b[0m\u001b[0m\n",
      "\u001b[1;32mD:\\Old Hdd\\NotesSig\\srivastav\\o\\ps\\WPy64-3860\\python-3.8.6.amd64\\lib\\site-packages\\pandas\\core\\indexing.py\u001b[0m in \u001b[0;36m_get_listlike_indexer\u001b[1;34m(self, key, axis, raise_missing)\u001b[0m\n\u001b[0;32m   1252\u001b[0m             \u001b[0mkeyarr\u001b[0m\u001b[1;33m,\u001b[0m \u001b[0mindexer\u001b[0m\u001b[1;33m,\u001b[0m \u001b[0mnew_indexer\u001b[0m \u001b[1;33m=\u001b[0m \u001b[0max\u001b[0m\u001b[1;33m.\u001b[0m\u001b[0m_reindex_non_unique\u001b[0m\u001b[1;33m(\u001b[0m\u001b[0mkeyarr\u001b[0m\u001b[1;33m)\u001b[0m\u001b[1;33m\u001b[0m\u001b[1;33m\u001b[0m\u001b[0m\n\u001b[0;32m   1253\u001b[0m \u001b[1;33m\u001b[0m\u001b[0m\n\u001b[1;32m-> 1254\u001b[1;33m         \u001b[0mself\u001b[0m\u001b[1;33m.\u001b[0m\u001b[0m_validate_read_indexer\u001b[0m\u001b[1;33m(\u001b[0m\u001b[0mkeyarr\u001b[0m\u001b[1;33m,\u001b[0m \u001b[0mindexer\u001b[0m\u001b[1;33m,\u001b[0m \u001b[0maxis\u001b[0m\u001b[1;33m,\u001b[0m \u001b[0mraise_missing\u001b[0m\u001b[1;33m=\u001b[0m\u001b[0mraise_missing\u001b[0m\u001b[1;33m)\u001b[0m\u001b[1;33m\u001b[0m\u001b[1;33m\u001b[0m\u001b[0m\n\u001b[0m\u001b[0;32m   1255\u001b[0m         \u001b[1;32mreturn\u001b[0m \u001b[0mkeyarr\u001b[0m\u001b[1;33m,\u001b[0m \u001b[0mindexer\u001b[0m\u001b[1;33m\u001b[0m\u001b[1;33m\u001b[0m\u001b[0m\n\u001b[0;32m   1256\u001b[0m \u001b[1;33m\u001b[0m\u001b[0m\n",
      "\u001b[1;32mD:\\Old Hdd\\NotesSig\\srivastav\\o\\ps\\WPy64-3860\\python-3.8.6.amd64\\lib\\site-packages\\pandas\\core\\indexing.py\u001b[0m in \u001b[0;36m_validate_read_indexer\u001b[1;34m(self, key, indexer, axis, raise_missing)\u001b[0m\n\u001b[0;32m   1296\u001b[0m             \u001b[1;32mif\u001b[0m \u001b[0mmissing\u001b[0m \u001b[1;33m==\u001b[0m \u001b[0mlen\u001b[0m\u001b[1;33m(\u001b[0m\u001b[0mindexer\u001b[0m\u001b[1;33m)\u001b[0m\u001b[1;33m:\u001b[0m\u001b[1;33m\u001b[0m\u001b[1;33m\u001b[0m\u001b[0m\n\u001b[0;32m   1297\u001b[0m                 \u001b[0maxis_name\u001b[0m \u001b[1;33m=\u001b[0m \u001b[0mself\u001b[0m\u001b[1;33m.\u001b[0m\u001b[0mobj\u001b[0m\u001b[1;33m.\u001b[0m\u001b[0m_get_axis_name\u001b[0m\u001b[1;33m(\u001b[0m\u001b[0maxis\u001b[0m\u001b[1;33m)\u001b[0m\u001b[1;33m\u001b[0m\u001b[1;33m\u001b[0m\u001b[0m\n\u001b[1;32m-> 1298\u001b[1;33m                 \u001b[1;32mraise\u001b[0m \u001b[0mKeyError\u001b[0m\u001b[1;33m(\u001b[0m\u001b[1;34mf\"None of [{key}] are in the [{axis_name}]\"\u001b[0m\u001b[1;33m)\u001b[0m\u001b[1;33m\u001b[0m\u001b[1;33m\u001b[0m\u001b[0m\n\u001b[0m\u001b[0;32m   1299\u001b[0m \u001b[1;33m\u001b[0m\u001b[0m\n\u001b[0;32m   1300\u001b[0m             \u001b[1;31m# We (temporarily) allow for some missing keys with .loc, except in\u001b[0m\u001b[1;33m\u001b[0m\u001b[1;33m\u001b[0m\u001b[1;33m\u001b[0m\u001b[0m\n",
      "\u001b[1;31mKeyError\u001b[0m: \"None of [Float64Index([5993.0, 5130.0], dtype='float64')] are in the [columns]\""
     ]
    }
   ],
   "source": [
    "compute_loss([df1['MonthlyIncome'],x)"
   ]
  },
  {
   "cell_type": "code",
   "execution_count": 71,
   "metadata": {},
   "outputs": [
    {
     "ename": "InvalidArgumentError",
     "evalue": "Matrix size-incompatible: In[0]: [2,26], In[1]: [2,26] [Op:MatMul]",
     "output_type": "error",
     "traceback": [
      "\u001b[1;31m---------------------------------------------------------------------------\u001b[0m",
      "\u001b[1;31mInvalidArgumentError\u001b[0m                      Traceback (most recent call last)",
      "\u001b[1;32m<ipython-input-71-59f2d9b654f5>\u001b[0m in \u001b[0;36m<module>\u001b[1;34m\u001b[0m\n\u001b[1;32m----> 1\u001b[1;33m \u001b[0mtrain\u001b[0m\u001b[1;33m(\u001b[0m\u001b[0mx\u001b[0m\u001b[1;33m,\u001b[0m\u001b[0mdf3\u001b[0m\u001b[1;33m[\u001b[0m\u001b[1;34m'MonthlyIncome'\u001b[0m\u001b[1;33m]\u001b[0m\u001b[1;33m)\u001b[0m\u001b[1;33m\u001b[0m\u001b[1;33m\u001b[0m\u001b[0m\n\u001b[0m",
      "\u001b[1;32m<ipython-input-20-b6e9c4987cad>\u001b[0m in \u001b[0;36mtrain\u001b[1;34m(x, y)\u001b[0m\n\u001b[0;32m     16\u001b[0m \u001b[1;32mdef\u001b[0m \u001b[0mtrain\u001b[0m\u001b[1;33m(\u001b[0m\u001b[0mx\u001b[0m\u001b[1;33m,\u001b[0m \u001b[0my\u001b[0m\u001b[1;33m)\u001b[0m\u001b[1;33m:\u001b[0m \u001b[1;31m# training and updating through GD updates\u001b[0m\u001b[1;33m\u001b[0m\u001b[1;33m\u001b[0m\u001b[0m\n\u001b[0;32m     17\u001b[0m     \u001b[1;32mwith\u001b[0m \u001b[0mtf\u001b[0m\u001b[1;33m.\u001b[0m\u001b[0mGradientTape\u001b[0m\u001b[1;33m(\u001b[0m\u001b[1;33m)\u001b[0m \u001b[1;32mas\u001b[0m \u001b[0mtape\u001b[0m\u001b[1;33m:\u001b[0m\u001b[1;33m\u001b[0m\u001b[1;33m\u001b[0m\u001b[0m\n\u001b[1;32m---> 18\u001b[1;33m         \u001b[0mpredictions\u001b[0m \u001b[1;33m=\u001b[0m \u001b[0mcompute_predictions\u001b[0m\u001b[1;33m(\u001b[0m\u001b[0mx\u001b[0m\u001b[1;33m)\u001b[0m \u001b[1;31m# y_pred or y hat\u001b[0m\u001b[1;33m\u001b[0m\u001b[1;33m\u001b[0m\u001b[0m\n\u001b[0m\u001b[0;32m     19\u001b[0m         \u001b[0mloss\u001b[0m \u001b[1;33m=\u001b[0m \u001b[0mcompute_loss\u001b[0m\u001b[1;33m(\u001b[0m\u001b[0my\u001b[0m\u001b[1;33m,\u001b[0m \u001b[0mpredictions\u001b[0m\u001b[1;33m)\u001b[0m  \u001b[1;31m# loss returned\u001b[0m\u001b[1;33m\u001b[0m\u001b[1;33m\u001b[0m\u001b[0m\n\u001b[0;32m     20\u001b[0m         \u001b[0mdloss_dw\u001b[0m\u001b[1;33m,\u001b[0m \u001b[0mdloss_db\u001b[0m \u001b[1;33m=\u001b[0m \u001b[0mtape\u001b[0m\u001b[1;33m.\u001b[0m\u001b[0mgradient\u001b[0m\u001b[1;33m(\u001b[0m\u001b[0mloss\u001b[0m\u001b[1;33m,\u001b[0m \u001b[1;33m[\u001b[0m\u001b[0mw\u001b[0m\u001b[1;33m,\u001b[0m \u001b[0mb\u001b[0m\u001b[1;33m]\u001b[0m\u001b[1;33m)\u001b[0m \u001b[1;31m# gradient w.r.t. w and b\u001b[0m\u001b[1;33m\u001b[0m\u001b[1;33m\u001b[0m\u001b[0m\n",
      "\u001b[1;32m<ipython-input-20-b6e9c4987cad>\u001b[0m in \u001b[0;36mcompute_predictions\u001b[1;34m(features)\u001b[0m\n\u001b[0;32m      9\u001b[0m \u001b[1;33m\u001b[0m\u001b[0m\n\u001b[0;32m     10\u001b[0m \u001b[1;32mdef\u001b[0m \u001b[0mcompute_predictions\u001b[0m\u001b[1;33m(\u001b[0m\u001b[0mfeatures\u001b[0m\u001b[1;33m)\u001b[0m\u001b[1;33m:\u001b[0m \u001b[1;31m# define hypothesis\u001b[0m\u001b[1;33m\u001b[0m\u001b[1;33m\u001b[0m\u001b[0m\n\u001b[1;32m---> 11\u001b[1;33m     \u001b[1;32mreturn\u001b[0m \u001b[0mtf\u001b[0m\u001b[1;33m.\u001b[0m\u001b[0mmatmul\u001b[0m\u001b[1;33m(\u001b[0m\u001b[0mfeatures\u001b[0m\u001b[1;33m,\u001b[0m \u001b[0mw\u001b[0m\u001b[1;33m)\u001b[0m \u001b[1;33m+\u001b[0m \u001b[0mb\u001b[0m\u001b[1;33m\u001b[0m\u001b[1;33m\u001b[0m\u001b[0m\n\u001b[0m\u001b[0;32m     12\u001b[0m \u001b[1;33m\u001b[0m\u001b[0m\n\u001b[0;32m     13\u001b[0m \u001b[1;32mdef\u001b[0m \u001b[0mcompute_loss\u001b[0m\u001b[1;33m(\u001b[0m\u001b[0mlabels\u001b[0m\u001b[1;33m,\u001b[0m \u001b[0mpredictions\u001b[0m\u001b[1;33m)\u001b[0m\u001b[1;33m:\u001b[0m \u001b[1;31m# define MSE\u001b[0m\u001b[1;33m\u001b[0m\u001b[1;33m\u001b[0m\u001b[0m\n",
      "\u001b[1;32mD:\\Old Hdd\\NotesSig\\srivastav\\o\\ps\\WPy64-3860\\python-3.8.6.amd64\\lib\\site-packages\\tensorflow\\python\\util\\dispatch.py\u001b[0m in \u001b[0;36mwrapper\u001b[1;34m(*args, **kwargs)\u001b[0m\n\u001b[0;32m    199\u001b[0m     \u001b[1;34m\"\"\"Call target, and fall back on dispatchers if there is a TypeError.\"\"\"\u001b[0m\u001b[1;33m\u001b[0m\u001b[1;33m\u001b[0m\u001b[0m\n\u001b[0;32m    200\u001b[0m     \u001b[1;32mtry\u001b[0m\u001b[1;33m:\u001b[0m\u001b[1;33m\u001b[0m\u001b[1;33m\u001b[0m\u001b[0m\n\u001b[1;32m--> 201\u001b[1;33m       \u001b[1;32mreturn\u001b[0m \u001b[0mtarget\u001b[0m\u001b[1;33m(\u001b[0m\u001b[1;33m*\u001b[0m\u001b[0margs\u001b[0m\u001b[1;33m,\u001b[0m \u001b[1;33m**\u001b[0m\u001b[0mkwargs\u001b[0m\u001b[1;33m)\u001b[0m\u001b[1;33m\u001b[0m\u001b[1;33m\u001b[0m\u001b[0m\n\u001b[0m\u001b[0;32m    202\u001b[0m     \u001b[1;32mexcept\u001b[0m \u001b[1;33m(\u001b[0m\u001b[0mTypeError\u001b[0m\u001b[1;33m,\u001b[0m \u001b[0mValueError\u001b[0m\u001b[1;33m)\u001b[0m\u001b[1;33m:\u001b[0m\u001b[1;33m\u001b[0m\u001b[1;33m\u001b[0m\u001b[0m\n\u001b[0;32m    203\u001b[0m       \u001b[1;31m# Note: convert_to_eager_tensor currently raises a ValueError, not a\u001b[0m\u001b[1;33m\u001b[0m\u001b[1;33m\u001b[0m\u001b[1;33m\u001b[0m\u001b[0m\n",
      "\u001b[1;32mD:\\Old Hdd\\NotesSig\\srivastav\\o\\ps\\WPy64-3860\\python-3.8.6.amd64\\lib\\site-packages\\tensorflow\\python\\ops\\math_ops.py\u001b[0m in \u001b[0;36mmatmul\u001b[1;34m(a, b, transpose_a, transpose_b, adjoint_a, adjoint_b, a_is_sparse, b_is_sparse, name)\u001b[0m\n\u001b[0;32m   3312\u001b[0m       \u001b[1;32mreturn\u001b[0m \u001b[0mret\u001b[0m\u001b[1;33m\u001b[0m\u001b[1;33m\u001b[0m\u001b[0m\n\u001b[0;32m   3313\u001b[0m     \u001b[1;32melse\u001b[0m\u001b[1;33m:\u001b[0m\u001b[1;33m\u001b[0m\u001b[1;33m\u001b[0m\u001b[0m\n\u001b[1;32m-> 3314\u001b[1;33m       return gen_math_ops.mat_mul(\n\u001b[0m\u001b[0;32m   3315\u001b[0m           a, b, transpose_a=transpose_a, transpose_b=transpose_b, name=name)\n\u001b[0;32m   3316\u001b[0m \u001b[1;33m\u001b[0m\u001b[0m\n",
      "\u001b[1;32mD:\\Old Hdd\\NotesSig\\srivastav\\o\\ps\\WPy64-3860\\python-3.8.6.amd64\\lib\\site-packages\\tensorflow\\python\\ops\\gen_math_ops.py\u001b[0m in \u001b[0;36mmat_mul\u001b[1;34m(a, b, transpose_a, transpose_b, name)\u001b[0m\n\u001b[0;32m   5529\u001b[0m       \u001b[1;32mreturn\u001b[0m \u001b[0m_result\u001b[0m\u001b[1;33m\u001b[0m\u001b[1;33m\u001b[0m\u001b[0m\n\u001b[0;32m   5530\u001b[0m     \u001b[1;32mexcept\u001b[0m \u001b[0m_core\u001b[0m\u001b[1;33m.\u001b[0m\u001b[0m_NotOkStatusException\u001b[0m \u001b[1;32mas\u001b[0m \u001b[0me\u001b[0m\u001b[1;33m:\u001b[0m\u001b[1;33m\u001b[0m\u001b[1;33m\u001b[0m\u001b[0m\n\u001b[1;32m-> 5531\u001b[1;33m       \u001b[0m_ops\u001b[0m\u001b[1;33m.\u001b[0m\u001b[0mraise_from_not_ok_status\u001b[0m\u001b[1;33m(\u001b[0m\u001b[0me\u001b[0m\u001b[1;33m,\u001b[0m \u001b[0mname\u001b[0m\u001b[1;33m)\u001b[0m\u001b[1;33m\u001b[0m\u001b[1;33m\u001b[0m\u001b[0m\n\u001b[0m\u001b[0;32m   5532\u001b[0m     \u001b[1;32mexcept\u001b[0m \u001b[0m_core\u001b[0m\u001b[1;33m.\u001b[0m\u001b[0m_FallbackException\u001b[0m\u001b[1;33m:\u001b[0m\u001b[1;33m\u001b[0m\u001b[1;33m\u001b[0m\u001b[0m\n\u001b[0;32m   5533\u001b[0m       \u001b[1;32mpass\u001b[0m\u001b[1;33m\u001b[0m\u001b[1;33m\u001b[0m\u001b[0m\n",
      "\u001b[1;32mD:\\Old Hdd\\NotesSig\\srivastav\\o\\ps\\WPy64-3860\\python-3.8.6.amd64\\lib\\site-packages\\tensorflow\\python\\framework\\ops.py\u001b[0m in \u001b[0;36mraise_from_not_ok_status\u001b[1;34m(e, name)\u001b[0m\n\u001b[0;32m   6860\u001b[0m   \u001b[0mmessage\u001b[0m \u001b[1;33m=\u001b[0m \u001b[0me\u001b[0m\u001b[1;33m.\u001b[0m\u001b[0mmessage\u001b[0m \u001b[1;33m+\u001b[0m \u001b[1;33m(\u001b[0m\u001b[1;34m\" name: \"\u001b[0m \u001b[1;33m+\u001b[0m \u001b[0mname\u001b[0m \u001b[1;32mif\u001b[0m \u001b[0mname\u001b[0m \u001b[1;32mis\u001b[0m \u001b[1;32mnot\u001b[0m \u001b[1;32mNone\u001b[0m \u001b[1;32melse\u001b[0m \u001b[1;34m\"\"\u001b[0m\u001b[1;33m)\u001b[0m\u001b[1;33m\u001b[0m\u001b[1;33m\u001b[0m\u001b[0m\n\u001b[0;32m   6861\u001b[0m   \u001b[1;31m# pylint: disable=protected-access\u001b[0m\u001b[1;33m\u001b[0m\u001b[1;33m\u001b[0m\u001b[1;33m\u001b[0m\u001b[0m\n\u001b[1;32m-> 6862\u001b[1;33m   \u001b[0msix\u001b[0m\u001b[1;33m.\u001b[0m\u001b[0mraise_from\u001b[0m\u001b[1;33m(\u001b[0m\u001b[0mcore\u001b[0m\u001b[1;33m.\u001b[0m\u001b[0m_status_to_exception\u001b[0m\u001b[1;33m(\u001b[0m\u001b[0me\u001b[0m\u001b[1;33m.\u001b[0m\u001b[0mcode\u001b[0m\u001b[1;33m,\u001b[0m \u001b[0mmessage\u001b[0m\u001b[1;33m)\u001b[0m\u001b[1;33m,\u001b[0m \u001b[1;32mNone\u001b[0m\u001b[1;33m)\u001b[0m\u001b[1;33m\u001b[0m\u001b[1;33m\u001b[0m\u001b[0m\n\u001b[0m\u001b[0;32m   6863\u001b[0m   \u001b[1;31m# pylint: enable=protected-access\u001b[0m\u001b[1;33m\u001b[0m\u001b[1;33m\u001b[0m\u001b[1;33m\u001b[0m\u001b[0m\n\u001b[0;32m   6864\u001b[0m \u001b[1;33m\u001b[0m\u001b[0m\n",
      "\u001b[1;32mD:\\Old Hdd\\NotesSig\\srivastav\\o\\ps\\WPy64-3860\\python-3.8.6.amd64\\lib\\site-packages\\six.py\u001b[0m in \u001b[0;36mraise_from\u001b[1;34m(value, from_value)\u001b[0m\n",
      "\u001b[1;31mInvalidArgumentError\u001b[0m: Matrix size-incompatible: In[0]: [2,26], In[1]: [2,26] [Op:MatMul]"
     ]
    }
   ],
   "source": [
    "train(x,df3['MonthlyIncome'])"
   ]
  }
 ],
 "metadata": {
  "kernelspec": {
   "display_name": "Python 3",
   "language": "python",
   "name": "python3"
  },
  "language_info": {
   "codemirror_mode": {
    "name": "ipython",
    "version": 3
   },
   "file_extension": ".py",
   "mimetype": "text/x-python",
   "name": "python",
   "nbconvert_exporter": "python",
   "pygments_lexer": "ipython3",
   "version": "3.8.6"
  }
 },
 "nbformat": 4,
 "nbformat_minor": 4
}
